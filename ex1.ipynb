{
 "cells": [
  {
   "cell_type": "code",
   "execution_count": 1,
   "id": "aa862b73",
   "metadata": {},
   "outputs": [],
   "source": [
    "import cv2\n",
    "image = cv2.imread(\"test.jpg\", cv2.IMREAD_ANYCOLOR)\n",
    "cv2.imshow(\"Moon\", image)\n",
    "cv2.waitKey()\n",
    "cv2.destroyAllWindows()"
   ]
  },
  {
   "cell_type": "code",
   "execution_count": 4,
   "id": "b44f50f9",
   "metadata": {},
   "outputs": [
    {
     "data": {
      "text/plain": [
       "-1"
      ]
     },
     "execution_count": 4,
     "metadata": {},
     "output_type": "execute_result"
    }
   ],
   "source": [
    "import cv2 as cv\n",
    "import numpy as np\n",
    "x_size = 600\n",
    "y_size = 600\n",
    "\n",
    "# find coordinate\n",
    "def onMouse(event, x, y, flags, param) :\n",
    "    if event == cv.EVENT_LBUTTONDOWN :\n",
    "        print('왼쪽 마우스 클릭 했을 때 좌표 : ', x, y)\n",
    "\n",
    "# onMouse 를 통해 얻은 좌표\n",
    "\n",
    "#왼쪽 마우스 클릭 했을 때 좌표 :  387 434\n",
    "#왼쪽 마우스 클릭 했을 때 좌표 :  580 447\n",
    "#왼쪽 마우스 클릭 했을 때 좌표 :  80 629\n",
    "#왼쪽 마우스 클릭 했을 때 좌표 :  823 648\n",
    "# perspective transformation\n",
    "def bird_eye_view(frame):\n",
    "    # pts1, pts2 is ROI\n",
    "    pts2 = np.float32([[0, 0], [x_size, 0], [0, y_size], [x_size, y_size]])\n",
    "    pts1 = np.float32([[131, 265], [320, 274], [70, 316], [379, 328]])\n",
    "    \n",
    "    #pts1 = np.float32([[230, 150], [370, 150], [20, 280], [580, 280]])\n",
    "    matrix = cv.getPerspectiveTransform(pts1, pts2)\n",
    "    matrix_inv = cv.getPerspectiveTransform(pts2, pts1)\n",
    "    frame = cv.warpPerspective(frame, matrix, (x_size, y_size))\n",
    "    return frame\n",
    "\n",
    "# scharr_filter\n",
    "def scharr_filter(frame):\n",
    "    img_gray = cv.cvtColor(frame, cv.COLOR_BGR2GRAY) # gray scale\n",
    "\n",
    "    #sobel x,y filtering for gradient detection ====\n",
    "    img_scharr_x = cv.Scharr(img_gray, cv.CV_64F, 1, 0)\n",
    "    img_scharr_x = cv.convertScaleAbs(img_scharr_x)\n",
    "    img_scharr_x2 = cv.Scharr(img_gray, cv.CV_64F, 0, 1)\n",
    "    img_scharr_x2 = cv.convertScaleAbs(img_scharr_x2)\n",
    "    #img_scharr_y = cv.Scharr(img_gray, cv.CV_64F, 0, 1)\n",
    "    #img_scharr_y = cv.convertScaleAbs(img_scharr_y)\n",
    "    #sobel x,y = sobel x + sobel y\n",
    "    img_scharr = cv.addWeighted(img_scharr_x, 1, img_scharr_x2, 1, 0)\n",
    "    #img_scharr = cv.addWeighted(img_scharr, 1, img_scharr_y, 1, 0)\n",
    "    # detecting white mark and yellow mark\n",
    "    # first,\n",
    "    _, white_line = cv.threshold(img_scharr, 150, 255, cv.THRESH_BINARY)\n",
    "    return white_line\n",
    "\n",
    "img = cv.imread('./test.jpg')\n",
    "dst = cv.resize(img,(600,400),interpolation=cv.INTER_AREA)\n",
    "bevimg = bird_eye_view(dst)\n",
    "\n",
    "#gaussain blur\n",
    "gimg = cv.GaussianBlur(bevimg,(3,3),0)\n",
    "\n",
    "#scharr filtering to detect edge\n",
    "sfimg = scharr_filter(gimg)\n",
    "\n",
    "#median filtering to remove noise\n",
    "median_img=cv.medianBlur(sfimg, 5)\n",
    "\n",
    "# thickend edge\n",
    "kernel = cv.getStructuringElement(cv.MORPH_RECT, (5, 5))\n",
    "color_filtered_img = cv.dilate(median_img, kernel)\n",
    "\n",
    "#find coordinate\n",
    "#마우스 좌클릭을 통해 lane의 좌표 확인\n",
    "cv.imshow('image', img)\n",
    "cv.waitKey()\n",
    "\n",
    "cv.imshow('perspective tranformation', bevimg)\n",
    "cv.waitKey() \n",
    "cv.imshow('gaussian filtered image', gimg)\n",
    "cv.waitKey()\n",
    "\n",
    "cv.imshow('scharr filtered image', sfimg)\n",
    "cv.waitKey()\n",
    "\n",
    "cv.imshow('median image', median_img)\n",
    "cv.waitKey()\n",
    "\n",
    "cv.imshow('3-3. Thickened image', color_filtered_img)\n",
    "cv.waitKey()"
   ]
  }
 ],
 "metadata": {
  "kernelspec": {
   "display_name": "Python 3 (ipykernel)",
   "language": "python",
   "name": "python3"
  },
  "language_info": {
   "codemirror_mode": {
    "name": "ipython",
    "version": 3
   },
   "file_extension": ".py",
   "mimetype": "text/x-python",
   "name": "python",
   "nbconvert_exporter": "python",
   "pygments_lexer": "ipython3",
   "version": "3.9.2"
  }
 },
 "nbformat": 4,
 "nbformat_minor": 5
}
