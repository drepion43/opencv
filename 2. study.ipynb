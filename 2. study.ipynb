{
 "cells": [
  {
   "cell_type": "markdown",
   "id": "ca2a43c2",
   "metadata": {},
   "source": [
    "# 역상"
   ]
  },
  {
   "cell_type": "code",
   "execution_count": 2,
   "id": "dc4e77b1",
   "metadata": {},
   "outputs": [],
   "source": [
    "import cv2\n",
    "src = cv2.imread(\"img/whitebutterfly.jpg\", cv2.IMREAD_COLOR)\n",
    "dst = cv2.bitwise_not(src)\n",
    "\n",
    "cv2.imshow(\"src\",src)\n",
    "cv2.imshow(\"dst\",dst)\n",
    "cv2.waitKey()\n",
    "cv2.destroyAllWindows()"
   ]
  },
  {
   "cell_type": "markdown",
   "id": "4bf3f1b3",
   "metadata": {},
   "source": [
    "# 이진화"
   ]
  },
  {
   "cell_type": "code",
   "execution_count": 3,
   "id": "ef9dd3ea",
   "metadata": {},
   "outputs": [],
   "source": [
    "src = cv2.imread(\"img/whitebutterfly.jpg\", cv2.IMREAD_COLOR)\n",
    "gray = cv2.cvtColor(src, cv2.COLOR_BGR2GRAY)\n",
    "ret, dst = cv2.threshold(gray, 100, 255, cv2.THRESH_BINARY)\n",
    "cv2.imshow(\"dst\",dst)\n",
    "cv2.waitKey()\n",
    "cv2.destroyAllWindows()"
   ]
  },
  {
   "cell_type": "markdown",
   "id": "20f48faf",
   "metadata": {},
   "source": [
    "# 흐림효과"
   ]
  },
  {
   "cell_type": "code",
   "execution_count": 4,
   "id": "a5603777",
   "metadata": {},
   "outputs": [],
   "source": [
    "src = cv2.imread(\"img/whitebutterfly.jpg\", cv2.IMREAD_COLOR)\n",
    "dst = cv2.blur(src, (9, 9), anchor=(-1, -1), borderType=cv2.BORDER_DEFAULT)\n",
    "cv2.imshow(\"dst\",dst)\n",
    "cv2.waitKey()\n",
    "cv2.destroyAllWindows()"
   ]
  },
  {
   "cell_type": "markdown",
   "id": "5facff09",
   "metadata": {},
   "source": [
    "# ***가장자리 검출"
   ]
  },
  {
   "cell_type": "code",
   "execution_count": 6,
   "id": "4969eba0",
   "metadata": {},
   "outputs": [],
   "source": [
    "src = cv2.imread(\"img/whitebutterfly.jpg\", cv2.IMREAD_COLOR)\n",
    "gray = cv2.cvtColor(src, cv2.COLOR_BGR2GRAY)\n",
    "\n",
    "sobel = cv2.Sobel(gray, cv2.CV_8U, 1, 0, 3)\n",
    "laplacian = cv2.Laplacian(gray, cv2.CV_8U, ksize=3)\n",
    "canny = cv2.Canny(src, 100, 255)\n",
    "\n",
    "cv2.imshow(\"sobel\", sobel)\n",
    "cv2.imshow(\"laplacian\", laplacian)\n",
    "cv2.imshow(\"canny\", canny)\n",
    "cv2.waitKey()\n",
    "cv2.destroyAllWindows()"
   ]
  },
  {
   "cell_type": "markdown",
   "id": "8d3cd9cd",
   "metadata": {},
   "source": [
    "# HSV"
   ]
  },
  {
   "cell_type": "code",
   "execution_count": 8,
   "id": "22c2bf11",
   "metadata": {},
   "outputs": [],
   "source": [
    "src = cv2.imread(\"img/tomato.jpg\", cv2.IMREAD_COLOR)\n",
    "hsv = cv2.cvtColor(src, cv2.COLOR_BGR2HSV)\n",
    "h,s,v=cv2.split(hsv)\n",
    "\n",
    "cv2.imshow(\"h\",h)\n",
    "cv2.imshow(\"s\",s)\n",
    "cv2.imshow(\"v\",v)\n",
    "cv2.waitKey()\n",
    "cv2.destroyAllWindows()"
   ]
  },
  {
   "cell_type": "code",
   "execution_count": 10,
   "id": "965c772f",
   "metadata": {},
   "outputs": [],
   "source": [
    "src = cv2.imread(\"img/tomato.jpg\", cv2.IMREAD_COLOR)\n",
    "hsv = cv2.cvtColor(src, cv2.COLOR_BGR2HSV)\n",
    "h, s, v = cv2.split(hsv)\n",
    "\n",
    "h = cv2.inRange(h, 8, 20)\n",
    "orange = cv2.bitwise_and(hsv, hsv, mask = h)\n",
    "orange = cv2.cvtColor(orange, cv2.COLOR_HSV2BGR)\n",
    "\n",
    "cv2.imshow(\"orange\", orange)\n",
    "cv2.waitKey()\n",
    "cv2.destroyAllWindows()"
   ]
  },
  {
   "cell_type": "markdown",
   "id": "dd44a3e1",
   "metadata": {},
   "source": [
    "# 배열 병합"
   ]
  },
  {
   "cell_type": "code",
   "execution_count": 11,
   "id": "9dc8d032",
   "metadata": {},
   "outputs": [],
   "source": [
    "src = cv2.imread(\"img/tomato.jpg\", cv2.IMREAD_COLOR)\n",
    "hsv = cv2.cvtColor(src, cv2.COLOR_BGR2HSV)\n",
    "h, s, v = cv2.split(hsv)\n",
    "\n",
    "lower_red = cv2.inRange(hsv, (0, 100, 100), (5, 255, 255))\n",
    "upper_red = cv2.inRange(hsv, (170, 100, 100), (180, 255, 255))\n",
    "added_red = cv2.addWeighted(lower_red, 1.0, upper_red, 1.0, 0.0)\n",
    "\n",
    "red = cv2.bitwise_and(hsv, hsv, mask = added_red)\n",
    "red = cv2.cvtColor(red, cv2.COLOR_HSV2BGR)\n",
    "\n",
    "cv2.imshow(\"red\", red)\n",
    "cv2.waitKey()\n",
    "cv2.destroyAllWindows()"
   ]
  },
  {
   "cell_type": "markdown",
   "id": "db52fd9b",
   "metadata": {},
   "source": [
    "# 채널분리"
   ]
  },
  {
   "cell_type": "code",
   "execution_count": 12,
   "id": "0b859173",
   "metadata": {},
   "outputs": [],
   "source": [
    "src = cv2.imread(\"img/tomato.jpg\", cv2.IMREAD_COLOR)\n",
    "b, g, r = cv2.split(src)\n",
    "inverse = cv2.merge((r, g, b))\n",
    "\n",
    "cv2.imshow(\"b\", b)\n",
    "cv2.imshow(\"g\", g)\n",
    "cv2.imshow(\"r\", r)\n",
    "cv2.imshow(\"inverse\", inverse)\n",
    "cv2.waitKey()\n",
    "cv2.destroyAllWindows()"
   ]
  },
  {
   "cell_type": "markdown",
   "id": "41bc669f",
   "metadata": {},
   "source": [
    "# 도형그리기"
   ]
  },
  {
   "cell_type": "markdown",
   "id": "26f6f9b6",
   "metadata": {},
   "source": [
    "# 기하학적 변환"
   ]
  },
  {
   "cell_type": "markdown",
   "id": "b5b3c2fd",
   "metadata": {},
   "source": [
    "# 캡쳐밑녹화"
   ]
  }
 ],
 "metadata": {
  "kernelspec": {
   "display_name": "Python 3 (ipykernel)",
   "language": "python",
   "name": "python3"
  },
  "language_info": {
   "codemirror_mode": {
    "name": "ipython",
    "version": 3
   },
   "file_extension": ".py",
   "mimetype": "text/x-python",
   "name": "python",
   "nbconvert_exporter": "python",
   "pygments_lexer": "ipython3",
   "version": "3.9.2"
  }
 },
 "nbformat": 4,
 "nbformat_minor": 5
}
