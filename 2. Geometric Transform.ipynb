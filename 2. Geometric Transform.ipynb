{
 "cells": [
  {
   "cell_type": "markdown",
   "id": "979bd3cb",
   "metadata": {},
   "source": [
    "### 이동"
   ]
  },
  {
   "cell_type": "code",
   "execution_count": 6,
   "id": "92aa7db2",
   "metadata": {},
   "outputs": [],
   "source": [
    "import cv2\n",
    "import numpy as np\n",
    "\n",
    "img=cv2.imread('./img/fish.jpg')\n",
    "rows,cols=img.shape[0:2]\n",
    "\n",
    "dx,dy=100,50\n",
    "\n",
    "mtrx=np.float32([[1,0,dx],[0,1,dy]])\n",
    "\n",
    "dst=cv2.warpAffine(img,mtrx,(cols+dx,rows+dy))\n",
    "\n",
    "dst2=cv2.warpAffine(img,mtrx,(cols+dx,rows+dy),None,cv2.INTER_LINEAR,cv2.BORDER_CONSTANT,(255,0,0))\n",
    "\n",
    "dst3=cv2.warpAffine(img,mtrx,(cols+dx,rows+dy),None,cv2.INTER_LINEAR,cv2.BORDER_REFLECT)\n",
    "\n",
    "cv2.imshow('origin',img)\n",
    "cv2.imshow('trans',dst)\n",
    "cv2.imshow('BORDER_CONSTANT',dst2)\n",
    "cv2.imshow('BORDER_REFLECT',dst3)\n",
    "cv2.waitKey(0)\n",
    "cv2.destroyAllWindows()"
   ]
  },
  {
   "cell_type": "markdown",
   "id": "fc87b497",
   "metadata": {},
   "source": [
    "### 확대/축소"
   ]
  },
  {
   "cell_type": "code",
   "execution_count": 1,
   "id": "f2f3425f",
   "metadata": {},
   "outputs": [
    {
     "name": "stderr",
     "output_type": "stream",
     "text": [
      "c:\\users\\drepi\\anaconda3\\envs\\rhs\\lib\\site-packages\\numpy\\_distributor_init.py:32: UserWarning: loaded more than 1 DLL from .libs:\n",
      "c:\\users\\drepi\\anaconda3\\envs\\rhs\\lib\\site-packages\\numpy\\.libs\\libopenblas.GK7GX5KEQ4F6UYO3P26ULGBQYHGQO7J4.gfortran-win_amd64.dll\n",
      "c:\\users\\drepi\\anaconda3\\envs\\rhs\\lib\\site-packages\\numpy\\.libs\\libopenblas.XWYDX2IKJW2NMTWSFYNGFUWKQU3LYTCZ.gfortran-win_amd64.dll\n",
      "  stacklevel=1)\n"
     ]
    }
   ],
   "source": [
    "import cv2\n",
    "import numpy as np\n",
    "\n",
    "img=cv2.imread('./img/fish.jpg')\n",
    "h,w=img.shape[0:2]\n",
    "\n",
    "m_small=np.float32([[0.5,0,0],[0,0.5,0]])\n",
    "\n",
    "m_big=np.float32([[2,0,0],[0,2,0]])\n",
    "\n",
    "dst=cv2.warpAffine(img,m_small,(int(h*0.5),int(w*0.5)))\n",
    "\n",
    "dst2=cv2.warpAffine(img,m_big,(int(h*2),int(w*2)))\n",
    "\n",
    "dst3=cv2.warpAffine(img,m_small,(int(h*0.5),int(w*0.5)),None,cv2.INTER_AREA)\n",
    "\n",
    "dst4=cv2.warpAffine(img,m_big,(int(h*2),int(w*2)),None,cv2.INTER_CUBIC)\n",
    "\n",
    "cv2.imshow('origin',img)\n",
    "cv2.imshow('small',dst)\n",
    "cv2.imshow('big',dst2)\n",
    "cv2.imshow('small INTER_AREA',dst3)\n",
    "cv2.imshow('big INTER_CUBIC',dst4)\n",
    "cv2.waitKey(0)\n",
    "cv2.destroyAllWindows()"
   ]
  },
  {
   "cell_type": "code",
   "execution_count": 4,
   "id": "b6a3dcb6",
   "metadata": {},
   "outputs": [],
   "source": [
    "import cv2\n",
    "import numpy as np\n",
    "\n",
    "img=cv2.imread('./img/fish.jpg')\n",
    "h,w=img.shape[0:2]\n",
    "\n",
    "dst=cv2.resize(img,(int(h*0.5),int(w*0.5)),interpolation=cv2.INTER_AREA)\n",
    "\n",
    "dst2=cv2.resize(img,None,None,2,2,cv2.INTER_CUBIC)\n",
    "\n",
    "cv2.imshow('origin',img)\n",
    "cv2.imshow('small',dst)\n",
    "cv2.imshow('big',dst2)\n",
    "cv2.waitKey(0)\n",
    "cv2.destroyAllWindows()"
   ]
  },
  {
   "cell_type": "markdown",
   "id": "55b2a84d",
   "metadata": {},
   "source": [
    "### 회전"
   ]
  },
  {
   "cell_type": "code",
   "execution_count": 5,
   "id": "02434108",
   "metadata": {},
   "outputs": [],
   "source": [
    "import cv2\n",
    "import numpy as np\n",
    "\n",
    "img=cv2.imread('./img/fish.jpg')\n",
    "h,w=img.shape[0:2]\n",
    "\n",
    "d45=45.0*np.pi/180\n",
    "d90=90.0*np.pi/180\n",
    "\n",
    "m45=np.float32([[np.cos(d45),-1*np.sin(d45),h//2],[np.sin(d45),np.cos(d45),-1*w//4]])\n",
    "m90=np.float32([[np.cos(d90),-1*np.sin(d90),h],[np.sin(d90),np.cos(d90),0]])\n",
    "\n",
    "r45=cv2.warpAffine(img,m45,(h,w))\n",
    "r90=cv2.warpAffine(img,m90,(h,w))\n",
    "\n",
    "\n",
    "cv2.imshow('origin',img)\n",
    "cv2.imshow('45',r45)\n",
    "cv2.imshow('90',r90)\n",
    "cv2.waitKey(0)\n",
    "cv2.destroyAllWindows()"
   ]
  },
  {
   "cell_type": "code",
   "execution_count": 6,
   "id": "c7dd4e72",
   "metadata": {},
   "outputs": [],
   "source": [
    "import cv2\n",
    "\n",
    "img=cv2.imread('./img/fish.jpg')\n",
    "h,w=img.shape[0:2]\n",
    "\n",
    "#변환 행렬 구하기\n",
    "m45=cv2.getRotationMatrix2D((w/2,h/2),45,0.5)\n",
    "m90=cv2.getRotationMatrix2D(((w/2,h/2)),90.0,1.5)\n",
    "\n",
    "img45=cv2.warpAffine(img,m45,(h,w))\n",
    "img90=cv2.warpAffine(img,m90,(h,w))\n",
    "\n",
    "cv2.imshow('origin',img)\n",
    "cv2.imshow('45',img45)\n",
    "cv2.imshow('90',img90)\n",
    "cv2.waitKey(0)\n",
    "cv2.destroyAllWindows()"
   ]
  },
  {
   "cell_type": "code",
   "execution_count": null,
   "id": "698a6be6",
   "metadata": {},
   "outputs": [],
   "source": []
  }
 ],
 "metadata": {
  "kernelspec": {
   "display_name": "Python 3 (ipykernel)",
   "language": "python",
   "name": "python3"
  },
  "language_info": {
   "codemirror_mode": {
    "name": "ipython",
    "version": 3
   },
   "file_extension": ".py",
   "mimetype": "text/x-python",
   "name": "python",
   "nbconvert_exporter": "python",
   "pygments_lexer": "ipython3",
   "version": "3.7.10"
  }
 },
 "nbformat": 4,
 "nbformat_minor": 5
}
