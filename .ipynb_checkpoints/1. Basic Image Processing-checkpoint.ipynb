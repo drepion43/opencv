{
 "cells": [
  {
   "cell_type": "markdown",
   "id": "884d3708",
   "metadata": {},
   "source": [
    "# ROI(Region of Interest)"
   ]
  },
  {
   "cell_type": "code",
   "execution_count": 1,
   "id": "f20787b9",
   "metadata": {},
   "outputs": [
    {
     "name": "stdout",
     "output_type": "stream",
     "text": [
      "(50, 50, 3)\n"
     ]
    }
   ],
   "source": [
    "import cv2\n",
    "import numpy as np\n",
    "\n",
    "img=cv2.imread('./img/sunset.jpg')\n",
    "\n",
    "x=320\n",
    "y=150\n",
    "w=50\n",
    "h=50\n",
    "\n",
    "roi=img[y:y+h,x:x+w]\n",
    "print(roi.shape)\n",
    "cv2.rectangle(roi,(0,0),(h-1,w-1),(0,255,0))\n",
    "cv2.imshow(\"img\",img)\n",
    "\n",
    "cv2.waitKey(0)\n",
    "cv2.destroyAllWindows()"
   ]
  },
  {
   "cell_type": "code",
   "execution_count": 3,
   "id": "9ea97b64",
   "metadata": {},
   "outputs": [],
   "source": [
    "import cv2\n",
    "import numpy as np\n",
    "\n",
    "img=cv2.imread('./img/sunset.jpg')\n",
    "\n",
    "x=320\n",
    "y=150\n",
    "w=50\n",
    "h=50\n",
    "\n",
    "roi=img[y:y+h,x:x+w]\n",
    "img2=roi.copy()\n",
    "img[y:y+h,x:x+w]=roi\n",
    "cv2.rectangle(img,(x,y),(x+w,y+h),(0,255,0))\n",
    "cv2.imshow(\"img\",img)\n",
    "cv2.imshow('roi',img2)\n",
    "\n",
    "cv2.waitKey(0)\n",
    "cv2.destroyAllWindows()"
   ]
  },
  {
   "cell_type": "markdown",
   "id": "d95e0e8e",
   "metadata": {},
   "source": [
    "## 마우스로 관심영역 지정"
   ]
  },
  {
   "cell_type": "code",
   "execution_count": 6,
   "id": "31c436d9",
   "metadata": {},
   "outputs": [
    {
     "name": "stdout",
     "output_type": "stream",
     "text": [
      "x:448, y:144, w:112, h:86\n",
      "cropped\n"
     ]
    }
   ],
   "source": [
    "import cv2\n",
    "import numpy as np\n",
    "\n",
    "isDragging=False\n",
    "x0,y0,w,h=-1,-1,-1,-1\n",
    "blue,red=(255,0,0),(0,0,255)\n",
    "\n",
    "def onMouse(event,x,y,flags,param):\n",
    "    global isDragging,x0,y0,img\n",
    "    if event==cv2.EVENT_LBUTTONDOWN: # 마우스 왼쪽버튼 = 드래그 시작\n",
    "        isDragging=True\n",
    "        x0=x\n",
    "        y0=y\n",
    "    elif event==cv2.EVENT_MOUSEMOVE:\n",
    "        if isDragging:\n",
    "            img_draw=img.copy()\n",
    "            cv2.rectangle(img_draw,(x0,y0),(x,y),blue,2)\n",
    "            cv2.imshow('img',img_draw)\n",
    "    elif event==cv2.EVENT_LBUTTONUP: #드래그 중지\n",
    "        if isDragging:\n",
    "            isDragging=False\n",
    "            w=x-x0\n",
    "            h=y-y0\n",
    "            print(\"x:%d, y:%d, w:%d, h:%d\"%(x0,y0,w,h))\n",
    "            if w>0 and h>0:\n",
    "                img_draw=img.copy()\n",
    "                cv2.rectangle(img_draw,(x0,y0),(x,y),red,2)\n",
    "                cv2.imshow('img',img_draw)\n",
    "                roi=img[y0:y0+h,x0:x0+w]\n",
    "                cv2.imshow('cropped',roi)\n",
    "                cv2.moveWindow('cropped',0,0)\n",
    "                cv2.imwrite('./cropped.jpg',roi)\n",
    "                print(\"cropped\")\n",
    "    else:\n",
    "        cv2.imshow('img',img)\n",
    "        print(\"좌측 상단에서 우측 하단으로 영역을 드래그하세요\")\n",
    "\n",
    "img=cv2.imread('./img/sunset.jpg')\n",
    "cv2.imshow('img',img)\n",
    "cv2.setMouseCallback('img',onMouse)\n",
    "cv2.waitKey()\n",
    "cv2.destroyAllWindows()\n",
    "\n",
    "        "
   ]
  },
  {
   "cell_type": "code",
   "execution_count": 8,
   "id": "470da85b",
   "metadata": {},
   "outputs": [],
   "source": [
    "import cv2\n",
    "import numpy as np\n",
    "\n",
    "img=cv2.imread('./img/sunset.jpg')\n",
    "\n",
    "x,y,w,h=cv2.selectROI('img',img,False)\n",
    "if w and h:\n",
    "    roi=img[y:y+h,x:x+w]\n",
    "    cv2.imshow('cropped',roi)\n",
    "    cv2.moveWindow('cropped',0,0)\n",
    "    cv2.imwrite('./cropped2.jpg',roi)\n",
    "\n",
    "cv2.imshow('img',img)\n",
    "cv2.waitKey(0)\n",
    "cv2.destroyAllWindows()\n",
    "\n",
    "# 지정 후 'Spacebar' 클릭시 ROI좌표 지정\n",
    "# 'C'를 클릭시 ROI좌표 취소"
   ]
  },
  {
   "cell_type": "markdown",
   "id": "966fa703",
   "metadata": {},
   "source": [
    "# Color Space"
   ]
  },
  {
   "cell_type": "markdown",
   "id": "fc7c68f4",
   "metadata": {},
   "source": [
    "### RGB,BGR,RGBA"
   ]
  },
  {
   "cell_type": "code",
   "execution_count": 2,
   "id": "d294dbff",
   "metadata": {},
   "outputs": [
    {
     "name": "stdout",
     "output_type": "stream",
     "text": [
      "Default: (120, 98, 3) BGR: (120, 98, 3) BGRA: (120, 98, 4)\n"
     ]
    }
   ],
   "source": [
    "import cv2\n",
    "import numpy as np\n",
    "\n",
    "img=cv2.imread('./img/opencv_logo.png')\n",
    "bgr=cv2.imread('./img/opencv_logo.png',cv2.IMREAD_COLOR)\n",
    "bgra=cv2.imread('./img/opencv_logo.png',cv2.IMREAD_UNCHANGED)\n",
    "\n",
    "print(\"Default:\",img.shape,'BGR:',bgr.shape,'BGRA:',bgra.shape)\n",
    "\n",
    "cv2.imshow('bgr',bgr)\n",
    "cv2.imshow('bgra',bgra)\n",
    "cv2.imshow('alpha',bgra[:,:,3]) # 알파 채널\n",
    "cv2.waitKey(0)\n",
    "cv2.destroyAllWindows()\n"
   ]
  },
  {
   "cell_type": "markdown",
   "id": "a1aa338d",
   "metadata": {},
   "source": [
    "### color space convert"
   ]
  },
  {
   "cell_type": "code",
   "execution_count": 1,
   "id": "e53a2531",
   "metadata": {},
   "outputs": [],
   "source": [
    "import cv2\n",
    "import numpy as np\n",
    "\n",
    "img=cv2.imread('./img/girl.jpg')\n",
    "img2=img.astype(np.uint16)\n",
    "b,g,r=cv2.split(img2) # 채널별 분리 == >  b,g,r= img2[:,:,0],img2[:,:,1],img2[:,:,2]\n",
    "gray1=((b+g+r)/3).astype(np.uint8) # 평균으로 grayscale 구하기\n",
    "\n",
    "gray2=cv2.cvtColor(img,cv2.COLOR_BGR2GRAY) #cvtColor 함수로 grayscale 구하기\n",
    "\n",
    "cv2.imshow('original',img)\n",
    "cv2.imshow('gray1',gray1)\n",
    "cv2.imshow('gray2',gray2)\n",
    "cv2.waitKey(0)\n",
    "cv2.destroyAllWindows()"
   ]
  },
  {
   "cell_type": "markdown",
   "id": "2db72971",
   "metadata": {},
   "source": [
    "### HSV,HSI,HSL"
   ]
  },
  {
   "cell_type": "code",
   "execution_count": 5,
   "id": "7718d9e9",
   "metadata": {},
   "outputs": [
    {
     "name": "stdout",
     "output_type": "stream",
     "text": [
      "red [[[  0 255 255]]]\n",
      "green [[[ 60 255 255]]]\n",
      "blue [[[120 255 255]]]\n",
      "yellow [[[ 30 255 255]]]\n"
     ]
    }
   ],
   "source": [
    "import cv2\n",
    "import numpy as np\n",
    "\n",
    "red_bgr=np.array([[[0,0,255]]],dtype=np.uint8)\n",
    "green_bgr=np.array([[[0,255,0]]],dtype=np.uint8)\n",
    "blue_bgr=np.array([[[255,0,0]]],dtype=np.uint8)\n",
    "yellow_bgr=np.array([[[0,255,255]]],dtype=np.uint8)\n",
    "\n",
    "red_hsv=cv2.cvtColor(red_bgr,cv2.COLOR_BGR2HSV)\n",
    "green_hsv=cv2.cvtColor(green_bgr,cv2.COLOR_BGR2HSV)\n",
    "blue_hsv=cv2.cvtColor(blue_bgr,cv2.COLOR_BGR2HSV)\n",
    "yellow_hsv=cv2.cvtColor(yellow_bgr,cv2.COLOR_BGR2HSV)\n",
    "\n",
    "print(\"red\",red_hsv)\n",
    "print(\"green\",green_hsv)\n",
    "print(\"blue\",blue_hsv)\n",
    "print(\"yellow\",yellow_hsv)"
   ]
  },
  {
   "cell_type": "markdown",
   "id": "3fc80a94",
   "metadata": {},
   "source": [
    "### YUV,YCbCr(밝기)"
   ]
  },
  {
   "cell_type": "code",
   "execution_count": 7,
   "id": "bdf404ef",
   "metadata": {},
   "outputs": [
    {
     "name": "stdout",
     "output_type": "stream",
     "text": [
      "dark [[[  0 128 128]]]\n",
      "middle [[[127 128 128]]]\n",
      "bright [[[255 128 128]]]\n"
     ]
    }
   ],
   "source": [
    "import cv2\n",
    "import numpy as np\n",
    "\n",
    "dark=np.array([[[0,0,0]]],dtype=np.uint8)\n",
    "middle=np.array([[[127,127,127]]],dtype=np.uint8)\n",
    "bright=np.array([[[255,255,255]]],dtype=np.uint8)\n",
    "\n",
    "dark_yuv=cv2.cvtColor(dark,cv2.COLOR_BGR2YUV)\n",
    "middle_yuv=cv2.cvtColor(middle,cv2.COLOR_BGR2YUV)\n",
    "bright_yuv=cv2.cvtColor(bright,cv2.COLOR_BGR2YUV)\n",
    "\n",
    "print(\"dark\",dark_yuv)\n",
    "print(\"middle\",middle_yuv)\n",
    "print(\"bright\",bright_yuv)"
   ]
  },
  {
   "cell_type": "markdown",
   "id": "6da2ab91",
   "metadata": {},
   "source": [
    "# ThreshHolding"
   ]
  },
  {
   "cell_type": "code",
   "execution_count": null,
   "id": "61081023",
   "metadata": {},
   "outputs": [],
   "source": []
  }
 ],
 "metadata": {
  "kernelspec": {
   "display_name": "Python 3 (ipykernel)",
   "language": "python",
   "name": "python3"
  },
  "language_info": {
   "codemirror_mode": {
    "name": "ipython",
    "version": 3
   },
   "file_extension": ".py",
   "mimetype": "text/x-python",
   "name": "python",
   "nbconvert_exporter": "python",
   "pygments_lexer": "ipython3",
   "version": "3.9.2"
  }
 },
 "nbformat": 4,
 "nbformat_minor": 5
}
